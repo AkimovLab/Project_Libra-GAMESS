{
 "cells": [
  {
   "cell_type": "markdown",
   "metadata": {},
   "source": [
    "# The CT dynamics is evaluated using Surface Hopping population"
   ]
  },
  {
   "cell_type": "markdown",
   "metadata": {},
   "source": [
    "## Import part"
   ]
  },
  {
   "cell_type": "code",
   "execution_count": 1,
   "metadata": {
    "collapsed": true
   },
   "outputs": [],
   "source": [
    "import sys\n",
    "import cmath\n",
    "import math\n",
    "import os\n",
    "import time\n",
    "import numpy as np\n",
    "import matplotlib.pyplot as plt\n",
    "from scipy.optimize import curve_fit"
   ]
  },
  {
   "cell_type": "markdown",
   "metadata": {},
   "source": [
    "## extract averaged pops\n",
    "### As for UFF/EHT, the population files are prepared with three initial conditions."
   ]
  },
  {
   "cell_type": "code",
   "execution_count": 2,
   "metadata": {
    "collapsed": true
   },
   "outputs": [],
   "source": [
    "def read_files(tsh):\n",
    "    lis = []\n",
    "    l = [\"RM1+D-RM1\",\"UFF-RM1\"]\n",
    "    for c in l:\n",
    "        f = open(\"_populations_sh_%s_%s.txt\"%(c,tsh),\"r\")\n",
    "        L = f.readlines()\n",
    "        f.close()\n",
    "        lis.append(L)\n",
    "    l = [6,7,8]\n",
    "    for c in l:\n",
    "        f = open(\"_populations_sh_UFF-EHT_%s_ist%i.txt\"%(tsh,c),\"r\")\n",
    "        L = f.readlines()\n",
    "        f.close()\n",
    "        lis.append(L)\n",
    "    return lis"
   ]
  },
  {
   "cell_type": "code",
   "execution_count": 3,
   "metadata": {},
   "outputs": [
    {
     "ename": "IOError",
     "evalue": "[Errno 2] No such file or directory: '_populations_sh_UFF-EHT_mssh_ist6.txt'",
     "output_type": "error",
     "traceback": [
      "\u001b[1;31m---------------------------------------------------------------------------\u001b[0m",
      "\u001b[1;31mIOError\u001b[0m                                   Traceback (most recent call last)",
      "\u001b[1;32m<ipython-input-3-e9d63ea2f65a>\u001b[0m in \u001b[0;36m<module>\u001b[1;34m()\u001b[0m\n\u001b[0;32m      3\u001b[0m \u001b[0mlis\u001b[0m \u001b[1;33m=\u001b[0m \u001b[1;33m{\u001b[0m\u001b[1;33m}\u001b[0m\u001b[1;33m;\u001b[0m \u001b[0ml\u001b[0m \u001b[1;33m=\u001b[0m \u001b[1;33m[\u001b[0m\u001b[1;34m\"mssh\"\u001b[0m\u001b[1;33m,\u001b[0m\u001b[1;34m\"mssh_ID-A\"\u001b[0m\u001b[1;33m,\u001b[0m\u001b[1;34m\"fssh\"\u001b[0m\u001b[1;33m,\u001b[0m\u001b[1;34m\"fssh_ID-A\"\u001b[0m\u001b[1;33m]\u001b[0m\u001b[1;33m\u001b[0m\u001b[0m\n\u001b[0;32m      4\u001b[0m \u001b[1;32mfor\u001b[0m \u001b[0mc\u001b[0m \u001b[1;32min\u001b[0m \u001b[0ml\u001b[0m\u001b[1;33m:\u001b[0m\u001b[1;33m\u001b[0m\u001b[0m\n\u001b[1;32m----> 5\u001b[1;33m     \u001b[0mlis\u001b[0m\u001b[1;33m[\u001b[0m\u001b[0mc\u001b[0m\u001b[1;33m]\u001b[0m \u001b[1;33m=\u001b[0m \u001b[0mread_files\u001b[0m\u001b[1;33m(\u001b[0m\u001b[0mc\u001b[0m\u001b[1;33m)\u001b[0m\u001b[1;33m\u001b[0m\u001b[0m\n\u001b[0m",
      "\u001b[1;32m<ipython-input-2-931c7449199c>\u001b[0m in \u001b[0;36mread_files\u001b[1;34m(tsh)\u001b[0m\n\u001b[0;32m      9\u001b[0m     \u001b[0ml\u001b[0m \u001b[1;33m=\u001b[0m \u001b[1;33m[\u001b[0m\u001b[1;36m6\u001b[0m\u001b[1;33m,\u001b[0m\u001b[1;36m7\u001b[0m\u001b[1;33m,\u001b[0m\u001b[1;36m8\u001b[0m\u001b[1;33m]\u001b[0m\u001b[1;33m\u001b[0m\u001b[0m\n\u001b[0;32m     10\u001b[0m     \u001b[1;32mfor\u001b[0m \u001b[0mc\u001b[0m \u001b[1;32min\u001b[0m \u001b[0ml\u001b[0m\u001b[1;33m:\u001b[0m\u001b[1;33m\u001b[0m\u001b[0m\n\u001b[1;32m---> 11\u001b[1;33m         \u001b[0mf\u001b[0m \u001b[1;33m=\u001b[0m \u001b[0mopen\u001b[0m\u001b[1;33m(\u001b[0m\u001b[1;34m\"_populations_sh_UFF-EHT_%s_ist%i.txt\"\u001b[0m\u001b[1;33m%\u001b[0m\u001b[1;33m(\u001b[0m\u001b[0mtsh\u001b[0m\u001b[1;33m,\u001b[0m\u001b[0mc\u001b[0m\u001b[1;33m)\u001b[0m\u001b[1;33m,\u001b[0m\u001b[1;34m\"r\"\u001b[0m\u001b[1;33m)\u001b[0m\u001b[1;33m\u001b[0m\u001b[0m\n\u001b[0m\u001b[0;32m     12\u001b[0m         \u001b[0mL\u001b[0m \u001b[1;33m=\u001b[0m \u001b[0mf\u001b[0m\u001b[1;33m.\u001b[0m\u001b[0mreadlines\u001b[0m\u001b[1;33m(\u001b[0m\u001b[1;33m)\u001b[0m\u001b[1;33m\u001b[0m\u001b[0m\n\u001b[0;32m     13\u001b[0m         \u001b[0mf\u001b[0m\u001b[1;33m.\u001b[0m\u001b[0mclose\u001b[0m\u001b[1;33m(\u001b[0m\u001b[1;33m)\u001b[0m\u001b[1;33m\u001b[0m\u001b[0m\n",
      "\u001b[1;31mIOError\u001b[0m: [Errno 2] No such file or directory: '_populations_sh_UFF-EHT_mssh_ist6.txt'"
     ]
    }
   ],
   "source": [
    "au_to_eV = 27.2116\n",
    "Npat = 5\n",
    "lis = {}; l = [\"mssh\",\"mssh_ID-A\",\"fssh\",\"fssh_ID-A\"]\n",
    "for c in l:\n",
    "    lis[c] = read_files(c)"
   ]
  },
  {
   "cell_type": "code",
   "execution_count": 7,
   "metadata": {
    "collapsed": true
   },
   "outputs": [],
   "source": [
    "def extract_energies(L, flag, method):\n",
    "    # [in] L: containing list including TSH popultion file.\n",
    "    # [in] init_st: the orbital including excited electron at t=0 (This must be a character, that is, \"HOMO\", \"LUMO\") \n",
    "    # [in] dt: nuclear time-step : it must be 1 in Libra-GAMESS, but 10 in tutorial.\n",
    "    # [in] flag: output more information 0-> not 1-> yes\n",
    "    # [out] out : numpy array including TSH population\n",
    "    \n",
    "    au_to_fs =  0.02419   # time unit transforming : a.u. to fs\n",
    "    \n",
    "    Nsnaps = len(L)\n",
    "    if flag == 1:\n",
    "        print \"number of snaps is %i\" % Nsnaps\n",
    "    out = {}\n",
    "    out[\"t\"] = np.zeros(Nsnaps+1)       # time steps\n",
    "    out[\"C60\"] = np.zeros(Nsnaps+1); out[\"C60\"][0] = 0;\n",
    "    out[\"delo\"] = np.zeros(Nsnaps+1); out[\"delo\"][0] = 1;\n",
    "\n",
    "    step = float(L[1].split()[1])\n",
    "    if flag ==1:\n",
    "        print \"method=%i\" % method; print \"step=\",step\n",
    "\n",
    "    #if method==2 or method==3 or method==4:\n",
    "    #    i=2\n",
    "    #else :\n",
    "    i=3\n",
    "\n",
    "    for sn in xrange(Nsnaps):\n",
    "        sp = L[sn].split()\n",
    "        out[\"t\"][sn+1] = (float(sp[1])+step) * au_to_fs / 1000 # fsec -> psec\n",
    "        out[\"C60\"][sn+1] = float(sp[i])+float(sp[i+1])+float(sp[i+2])\n",
    "        out[\"delo\"][sn+1] = float(sp[i+3])+float(sp[i+4])+float(sp[i+5])+float(sp[i+6])+float(sp[i+7])\n",
    "    \n",
    "    return out\n"
   ]
  },
  {
   "cell_type": "code",
   "execution_count": 8,
   "metadata": {},
   "outputs": [
    {
     "name": "stdout",
     "output_type": "stream",
     "text": [
      "number of snaps is 10000\n",
      "method=0\n",
      "step= 20.0\n",
      "number of snaps is 10000\n",
      "method=1\n",
      "step= 20.0\n",
      "number of snaps is 10000\n",
      "method=2\n",
      "step= 20.0\n",
      "number of snaps is 10000\n",
      "method=3\n",
      "step= 20.0\n",
      "number of snaps is 10000\n",
      "method=4\n",
      "step= 20.0\n",
      "number of snaps is 10000\n",
      "method=0\n",
      "step= 20.0\n",
      "number of snaps is 10000\n",
      "method=1\n",
      "step= 20.0\n",
      "number of snaps is 10000\n",
      "method=2\n",
      "step= 20.0\n",
      "number of snaps is 10000\n",
      "method=3\n",
      "step= 20.0\n",
      "number of snaps is 10000\n",
      "method=4\n",
      "step= 20.0\n",
      "number of snaps is 10000\n",
      "method=0\n",
      "step= 20.0\n",
      "number of snaps is 10000\n",
      "method=1\n",
      "step= 20.0\n",
      "number of snaps is 10000\n",
      "method=2\n",
      "step= 20.0\n",
      "number of snaps is 10000\n",
      "method=3\n",
      "step= 20.0\n",
      "number of snaps is 10000\n",
      "method=4\n",
      "step= 20.0\n",
      "number of snaps is 10000\n",
      "method=0\n",
      "step= 20.0\n",
      "number of snaps is 10000\n",
      "method=1\n",
      "step= 20.0\n",
      "number of snaps is 10000\n",
      "method=2\n",
      "step= 20.0\n",
      "number of snaps is 10000\n",
      "method=3\n",
      "step= 20.0\n",
      "number of snaps is 10000\n",
      "method=4\n",
      "step= 20.0\n"
     ]
    }
   ],
   "source": [
    "pop = {}\n",
    "for c in l:\n",
    "    pop[c] = []\n",
    "    for i in xrange(2):\n",
    "        out = extract_energies(lis[c][i], 1, i)\n",
    "        pop[c].append(out);\n",
    "    Nsnaps = len(lis[c][2])\n",
    "    out_tmp = {}\n",
    "    out_tmp[\"C60\"] = np.zeros(Nsnaps+1)\n",
    "    out_tmp[\"delo\"] = np.zeros(Nsnaps+1)    \n",
    "    for i in range(2,5):\n",
    "        out = extract_energies(lis[c][i], 1, i)\n",
    "        if i==2: out_tmp[\"t\"] = out[\"t\"] ;\n",
    "        #print out_tmp[\"delo\"]; print out[\"delo\"]\n",
    "        out_tmp[\"C60\"] += out[\"C60\"]\n",
    "        out_tmp[\"delo\"] += out[\"delo\"]\n",
    "    out_tmp[\"C60\"] /= 3.0\n",
    "    out_tmp[\"delo\"] /= 3.0\n",
    "    pop[c].append(out_tmp);\n",
    "#print pop[c][2]"
   ]
  },
  {
   "cell_type": "markdown",
   "metadata": {},
   "source": [
    "## fitting the pops by exponential curve: exp(-t/tau)"
   ]
  },
  {
   "cell_type": "code",
   "execution_count": 6,
   "metadata": {
    "collapsed": true
   },
   "outputs": [],
   "source": [
    "def fit_slater(t, tau):\n",
    "    return np.exp(-t/tau)\n",
    "def fit_gaussian(t,tau):\n",
    "    return np.exp(-t*t/tau/tau)"
   ]
  },
  {
   "cell_type": "code",
   "execution_count": 8,
   "metadata": {},
   "outputs": [
    {
     "name": "stdout",
     "output_type": "stream",
     "text": [
      "******mssh case ******\n",
      "In 0-th case,\n",
      "tau= 0.167\n",
      "In 1-th case,\n",
      "tau= 0.399\n",
      "In 2-th case,\n",
      "tau= 0.164\n",
      "******mssh_ID-A case ******\n",
      "In 0-th case,\n",
      "tau= 0.337\n",
      "In 1-th case,\n",
      "tau= 0.427\n",
      "In 2-th case,\n",
      "tau= 1.324\n",
      "******fssh case ******\n",
      "In 0-th case,\n",
      "tau= 0.795\n",
      "In 1-th case,\n",
      "tau= 0.891\n",
      "In 2-th case,\n",
      "tau= 2.566\n",
      "******fssh_ID-A case ******\n",
      "In 0-th case,\n",
      "tau= 2.681\n",
      "In 1-th case,\n",
      "tau= 1.664\n",
      "In 2-th case,\n",
      "tau= 10.662\n"
     ]
    }
   ],
   "source": [
    "popt = {}\n",
    "for c in l:\n",
    "    print \"******\"+c+\" case ******\"\n",
    "    popt[c] = []\n",
    "    for i in xrange(3):\n",
    "        if i==2 or (i==0 and (c==\"mssh_ID-A\" or c==\"fssh_ID-A\")):\n",
    "            p1, p2 = curve_fit(fit_slater, pop[c][i][\"t\"],pop[c][i][\"delo\"])\n",
    "        else:\n",
    "            p1, p2 = curve_fit(fit_gaussian, pop[c][i][\"t\"],pop[c][i][\"delo\"])\n",
    "        print \"In %i-th case,\" % i; print \"tau=\",round(p1[0],3); popt[c].append(p1[0])\n",
    "time =[\"0.17\",\"0.34\",\"0.80\",\"2.7\",\"0.40\",\"0.43\",\"0.90\",\"1.7\",\"0.16\",\"1.3\",\"2.6\",\"10.7\"]"
   ]
  },
  {
   "cell_type": "markdown",
   "metadata": {},
   "source": [
    "## Now, plot the populations."
   ]
  },
  {
   "cell_type": "markdown",
   "metadata": {},
   "source": [
    "## Nuclear trajectory and TSH method dependence"
   ]
  },
  {
   "cell_type": "code",
   "execution_count": 11,
   "metadata": {
    "collapsed": true
   },
   "outputs": [],
   "source": [
    "def plot_energy_single(c,pop, colors, lss, labs, pax, bbox, tloc_x,tloc_y, ylabel,popt,fig_name):\n",
    "    # [in] ene: dictionary including energies\n",
    "    # [in] colors: list of colors (\"black\", \"red\", etc...)\n",
    "    # [in] lss: list of linestyles (\"-\", \"-.\")\n",
    "    # [in] labs: list of labels (shows the kind of data)\n",
    "    # [in] pax: read in plt.axis(); this must be a list [xmin, xmax, ymin, ymax]\n",
    "    # [in] bbox: where the legends are shown\n",
    "    # [in] ylabel: label on y-axis\n",
    "    # [in] p1: fitting parameters\n",
    "    plt.clf() # initialization\n",
    "    plt.figure(figsize=(40, 8))\n",
    "    for i in xrange(3):\n",
    "        tau = popt[i]\n",
    "        t = pop[i][\"t\"];\n",
    "        plt.subplot(1,3,i+1)\n",
    "        plt.axis([0.0,pax[i],0.0,1.0])\n",
    "        plt.tick_params(direction=\"in\")\n",
    "        plt.rcParams[\"font.family\"] = \"serif\"\n",
    "        plt.rcParams[\"axes.linewidth\"] = 1.5\n",
    "        plt.tick_params(direction=\"in\")\n",
    "        plt.rcParams[\"xtick.major.size\"] = 10\n",
    "        plt.rcParams[\"xtick.major.width\"] = 1.5\n",
    "        plt.rcParams[\"ytick.major.size\"] = 10\n",
    "        plt.rcParams[\"ytick.major.width\"] = 1.5\n",
    "        plt.rcParams[\"font.size\"] = 36\n",
    "        plt.xlabel(\"time, ps\")\n",
    "        plt.ylabel(ylabel)\n",
    "        plt.plot(pop[i][\"t\"], pop[i][\"delo\"], color=colors[0], linewidth=3.5, linestyle=lss[0], label=labs[0])\n",
    "        if i==2 or (i==0 and (c==\"mssh_ID-A\" or c==\"fssh_ID-A\")):\n",
    "            plt.plot(t, fit_slater(t,tau), color=\"red\", linewidth=3.5, linestyle=\"-\",label=\"fitting\")\n",
    "        else:\n",
    "            plt.plot(t, fit_gaussian(t,tau), color=\"red\", linewidth=3.5, linestyle=\"-\",label=\"fitting\")\n",
    "        plt.text(tloc_x[i],tloc_y[i], str(round(tau,3))+\" ps\")    \n",
    "        plt.legend(fontsize=36, loc=\"upper center\",bbox_to_anchor=bbox[i])\n",
    "    plt.savefig(fig_name,bbox_inches=\"tight\")\n",
    "    plt.show()"
   ]
  },
  {
   "cell_type": "code",
   "execution_count": 1,
   "metadata": {
    "collapsed": true
   },
   "outputs": [],
   "source": [
    "def plot_pops(pop, colors, lss, labs, pax, lcolor, ynucele, time, ylabel,popt,fig_name):\n",
    "    # [in] ene: dictionary including energies\n",
    "    # [in] colors: list of colors (\"black\", \"red\", etc...)\n",
    "    # [in] lss: list of linestyles (\"-\", \"-.\")\n",
    "    # [in] labs: list of labels (shows the kind of data)\n",
    "    # [in] pax: read in plt.axis(); this must be a list [xmin, xmax, ymin, ymax]\n",
    "    # [in] bbox: where the legends are shown\n",
    "    # [in] ylabel: label on y-axis\n",
    "    # [in] p1: fitting parameters\n",
    "    plt.clf() # initialization\n",
    "    plt.figure(figsize=(75, 40))\n",
    "    plt.subplots_adjust(wspace=0.2, hspace=0.4)\n",
    "    cnt=0\n",
    "    lmethod =[\"MSSH\",\"MSSH+ID-A\",\"FSSH\",\"FSSH+ID-A\"]; imethod=0\n",
    "    nucele = [\"RM1+D/RM1\",\"UFF/RM1\",\"UFF/EHT\"]; inucele=0\n",
    "    for i in xrange(3):\n",
    "        for c in [\"mssh\",\"mssh_ID-A\",\"fssh\",\"fssh_ID-A\"]:\n",
    "            tau = popt[c][i];\n",
    "            t = pop[c][i][\"t\"];\n",
    "            plt.subplot(3,4,cnt+1);\n",
    "            plt.axis([-0.01,pax[cnt],-0.01,1.01])\n",
    "            plt.tick_params(direction=\"in\")\n",
    "            plt.rcParams[\"font.family\"] = \"serif\"\n",
    "            plt.rcParams[\"axes.linewidth\"] = 1.5\n",
    "            plt.tick_params(direction=\"in\")\n",
    "            plt.rcParams[\"xtick.major.size\"] = 10\n",
    "            plt.rcParams[\"xtick.major.width\"] = 1.5\n",
    "            plt.rcParams[\"ytick.major.size\"] = 10\n",
    "            plt.rcParams[\"ytick.major.width\"] = 1.5\n",
    "            plt.rcParams[\"font.size\"] = 50\n",
    "            plt.xlabel(\"time, ps\")\n",
    "            plt.ylabel(ylabel)\n",
    "            plt.plot(pop[c][i][\"t\"], pop[c][i][\"delo\"], color=colors[0], linewidth=3.5, linestyle=lss[0], label=labs[0])\n",
    "            if i==2 or (i==0 and (c==\"mssh_ID-A\" or c==\"fssh_ID-A\")):\n",
    "                plt.plot(t, fit_slater(t,tau), color=\"red\", linewidth=3.5, linestyle=\"-\",label=\"fitting\")\n",
    "            else:\n",
    "                plt.plot(t, fit_gaussian(t,tau), color=\"red\", linewidth=3.5, linestyle=\"-\",label=\"fitting\")\n",
    "            if cnt==11:\n",
    "                plt.text(0.2*pax[cnt],0.4,time[cnt]+\" ps\",fontsize=80)\n",
    "            else:\n",
    "                plt.text(0.5*pax[cnt],0.8,time[cnt]+\" ps\", fontsize=80)\n",
    "            plt.text(0.45*pax[cnt],-0.35,labs[cnt], fontsize=80)\n",
    "            #plt.legend(fontsize=36, loc=\"upper center\",bbox_to_anchor=bbox[i])\n",
    "            if cnt <4: # TSH method\n",
    "                plt.text(0.5*pax[cnt],1.1,lmethod[imethod],fontsize=80,horizontalalignment='center',color=lcolor[cnt/2]); imethod+=1\n",
    "            if cnt%4 ==0:  # nuclear/electronic methodology\n",
    "                plt.text(-0.3*pax[cnt],ynucele[inucele],nucele[inucele],fontsize=80,horizontalalignment='center',rotation=90); inucele+=1\n",
    "            cnt+=1\n",
    "    plt.savefig(fig_name,bbox_inches=\"tight\")\n",
    "    plt.show()"
   ]
  },
  {
   "cell_type": "code",
   "execution_count": 2,
   "metadata": {},
   "outputs": [
    {
     "ename": "NameError",
     "evalue": "name 'pop' is not defined",
     "output_type": "error",
     "traceback": [
      "\u001b[1;31m---------------------------------------------------------------------------\u001b[0m",
      "\u001b[1;31mNameError\u001b[0m                                 Traceback (most recent call last)",
      "\u001b[1;32m<ipython-input-2-fab740ef678b>\u001b[0m in \u001b[0;36m<module>\u001b[1;34m()\u001b[0m\n\u001b[0;32m      3\u001b[0m \u001b[0mynucele\u001b[0m \u001b[1;33m=\u001b[0m \u001b[1;33m[\u001b[0m\u001b[1;36m0.9\u001b[0m\u001b[1;33m,\u001b[0m\u001b[1;36m0.7\u001b[0m\u001b[1;33m,\u001b[0m\u001b[1;36m0.7\u001b[0m\u001b[1;33m]\u001b[0m\u001b[1;33m\u001b[0m\u001b[0m\n\u001b[0;32m      4\u001b[0m \u001b[0mlcolor\u001b[0m \u001b[1;33m=\u001b[0m \u001b[1;33m[\u001b[0m\u001b[1;34m\"blue\"\u001b[0m\u001b[1;33m,\u001b[0m\u001b[1;34m\"green\"\u001b[0m\u001b[1;33m]\u001b[0m\u001b[1;33m\u001b[0m\u001b[0m\n\u001b[1;32m----> 5\u001b[1;33m \u001b[0mplot_pops\u001b[0m\u001b[1;33m(\u001b[0m\u001b[0mpop\u001b[0m\u001b[1;33m,\u001b[0m \u001b[1;33m[\u001b[0m\u001b[1;34m\"black\"\u001b[0m\u001b[1;33m]\u001b[0m\u001b[1;33m,\u001b[0m                \u001b[1;33m[\u001b[0m\u001b[1;34m\"-\"\u001b[0m\u001b[1;33m]\u001b[0m\u001b[1;33m,\u001b[0m \u001b[0mlabs\u001b[0m\u001b[1;33m,\u001b[0m\u001b[0mpax\u001b[0m\u001b[1;33m,\u001b[0m\u001b[0mlcolor\u001b[0m\u001b[1;33m,\u001b[0m\u001b[0mynucele\u001b[0m\u001b[1;33m,\u001b[0m\u001b[0mtime\u001b[0m\u001b[1;33m,\u001b[0m \u001b[1;34m\"Population\"\u001b[0m\u001b[1;33m,\u001b[0m\u001b[0mpopt\u001b[0m\u001b[1;33m,\u001b[0m\u001b[1;34m\"dynamics_excitation_pops.eps\"\u001b[0m\u001b[1;33m)\u001b[0m\u001b[1;33m\u001b[0m\u001b[0m\n\u001b[0m",
      "\u001b[1;31mNameError\u001b[0m: name 'pop' is not defined"
     ]
    }
   ],
   "source": [
    "pax =[1.0,1.0,5.0,5.0,1.0,1.0,5.0,5.0,1.0,5.0,5.0,5.0]\n",
    "labs = [\"(a)\",\"(b)\",\"(c)\",\"(d)\",\"(e)\",\"(f)\",\"(g)\",\"(h)\",\"(i)\",\"(j)\",\"(k)\",\"(l)\"]\n",
    "ynucele = [0.9,0.7,0.7]\n",
    "lcolor = [\"blue\",\"green\"]\n",
    "plot_pops(pop, [\"black\"],\\\n",
    "                [\"-\"], labs,pax,lcolor,ynucele,time, \"Population\",popt,\"dynamics_excitation_pops.eps\")"
   ]
  }
 ],
 "metadata": {
  "kernelspec": {
   "display_name": "Python 2",
   "language": "python",
   "name": "python2"
  },
  "language_info": {
   "codemirror_mode": {
    "name": "ipython",
    "version": 2
   },
   "file_extension": ".py",
   "mimetype": "text/x-python",
   "name": "python",
   "nbconvert_exporter": "python",
   "pygments_lexer": "ipython2",
   "version": "2.7.14"
  }
 },
 "nbformat": 4,
 "nbformat_minor": 2
}
